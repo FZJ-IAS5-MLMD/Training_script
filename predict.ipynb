{
 "cells": [
  {
   "cell_type": "code",
   "execution_count": 1,
   "metadata": {},
   "outputs": [],
   "source": [
    "########Settings to shutup tensorflow###########################################################################\n",
    "# WARNING:tensorflow:Entity <..>> could not be transformed and will be executed as-is\n",
    "# to stop this warning, downgrade gast\n",
    "# pip3 install gast==0.2.2\n",
    "\n",
    "import os, warnings\n",
    "warnings.filterwarnings('ignore') # stop future warnings\n",
    "\n",
    "import tensorflow as tf\n",
    "# even after all this, deprication warning will appear\n",
    "# no way to stop this thn to prevent all messages, except errors\n",
    "tf.compat.v1.logging.set_verbosity(tf.compat.v1.logging.ERROR)\n",
    "# this is dangerous, make sure that only deprication warnings are being issued before executing above line\n",
    "\n",
    "os.environ['CUDA_VISIBLE_DEVICES'] = '' # required for tf to use gpu\n",
    "os.environ['TF_XLA_FLAGS']='--tf_xla_auto_jit=0 /home/raghavan/pinn_test' # accelerate tf models, stops warning\n",
    "###############################################################################################################"
   ]
  },
  {
   "cell_type": "code",
   "execution_count": 2,
   "metadata": {},
   "outputs": [],
   "source": [
    "def log(s, file):\n",
    "    if not file:\n",
    "        print(s)\n",
    "    else:\n",
    "        file.write(str(s)+'\\n')\n",
    "def getxyz(atoms, step, f=None):\n",
    "    pos = atoms.get_positions()\n",
    "    symb = atoms.get_chemical_symbols()\n",
    "    d = [str(s)+\" \"+str(i[0])+\" \"+str(i[1])+\" \"+str(i[2]) for s, i in zip(symb,pos)]\n",
    "    \n",
    "    log(len(d), f)\n",
    "    log(\"Step: \"+str(step), f)\n",
    "    for r in d:\n",
    "        log(r, f)"
   ]
  },
  {
   "cell_type": "code",
   "execution_count": 3,
   "metadata": {},
   "outputs": [
    {
     "data": {
      "text/plain": [
       "array([[12.7116  , 12.751599, 12.5616  ],\n",
       "       [11.9716  , 11.981601, 11.501599],\n",
       "       [13.211599, 11.961599, 13.7516  ],\n",
       "       ...,\n",
       "       [17.1416  ,  8.9916  , 24.4316  ],\n",
       "       [17.521599,  8.5816  , 23.6016  ],\n",
       "       [16.6416  ,  9.8216  , 24.191599]], dtype=float32)"
      ]
     },
     "execution_count": 3,
     "metadata": {},
     "output_type": "execute_result"
    }
   ],
   "source": [
    "import MDAnalysis as mda\n",
    "u = mda.Universe('data/mimic.trr')\n",
    "u.atoms.positions"
   ]
  },
  {
   "cell_type": "code",
   "execution_count": 4,
   "metadata": {},
   "outputs": [
    {
     "name": "stdout",
     "output_type": "stream",
     "text": [
      "{file} found!\n"
     ]
    },
    {
     "data": {
      "text/plain": [
       "'CCCOHHHHHHOHHOHHOHHOHHOHHOHHOHHOHHOHHOHHOHHOHHOHHOHHOHHOHHOHHOHHOHHOHHOHHOHHOHHOHHOHHOHHOHHOHHOHHOHHOHHOHHOHHOHHOHHOHHOHHOHHOHHOHHOHHOHHOHHOHHOHHOHHOHHOHHOHHOHHOHHOHHOHHOHHOHHOHHOHHOHHOHHOHHOHHOHHOHHOHHOHHOHHOHHOHHOHHOHHOHHOHHOHHOHHOHHOHHOHHOHHOHHOHHOHHOHHOHHOHHOHHOHHOHHOHHOHHOHHOHHOHHOHHOHHOHHOHHOHHOHHOHHOHHOHHOHHOHHOHHOHHOHHOHHOHHOHHOHHOHHOHHOHHOHHOHHOHHOHHOHHOHHOHHOHHOHHOHHOHHOHHOHHOHHOHHOHHOHHOHHOHHOHHOHHOHHOHHOHHOHHOHHOHHOHHOHHOHHOHHOHHOHHOHHOHHOHHOHHOHHOHHOHHOHHOHHOHHOHHOHHOHHOHHOHHOHHOHHOHHOHHOHHOHHOHHOHHOHHOHHOHHOHHOHHOHHOHHOHHOHHOHHOHHOHHOHHOHHOHHOHHOHHOHHOHHOHHOHHOHHOHHOHHOHHOHHOHHOHHOHHOHHOHHOHHOHHOHHOHHOHHOHHOHHOHHOHHOHHOHHOHHOHHOHHOHHOHHOHHOHHOHHOHHOHHOHHOHHOHHOHHOHHOHHOHHOHHOHHOHHOHHOHHOHHOHHOHHOHHOHHOHHOHHOHHOHHOHHOHHOHHOHHOHHOHHOHHOHHOHHOHHOHHOHHOHHOHHOHHOHHOHHOHHOHHOHHOHHOHHOHHOHHOHHOHHOHHOHHOHHOHHOHHOHHOHHOHHOHHOHHOHHOHHOHHOHHOHHOHHOHHOHHOHHOHHOHHOHHOHHOHHOHHOHHOHHOHHOHHOHHOHHOHHOHHOHHOHHOHHOHHOHHOHHOHHOHHOHHOHHOHHOHHOHHOHHOHHOHHOHHOHHOHHOHHOHHOHHOHHOHHOHHOHHOHHOHHOHHOHHOHHOHHOHHOHHOHHOHHOHHOHHOHHOHHOHHOHHOHHOHHOHHOHHOHHOHHOHHOHHOHHOHHOHHOHHOHHOHHOHHOHHOHHOHHOHHOHHOHHOHHOHHOHHOHHOHHOHHOHHOHHOHHOHHOHHOHHOHHOHHOHHOHHOHHOHHOHHOHHOHHOHHOHHOHHOHHOHHOHHOHHOHHOHHOHHOHHOHHOHHOHHOHHOHHOHHOHHOHHOHHOHHOHHOHHOHHOHHOHHOHHOHHOHHOHHOHHOHHOHHOHHOHHOHHOHHOHHOHHOHHOHHOHHOHHOHHOHHOHHOHHOHHOHHOHHOHHOHHOHHOHHOHHOHHOHHOHHOHHOHHOHHOHHOHHOHHOHHOHHOHHOHHOHHOHHOHHOHHOHHOHHOHHOHHOHHOHHOHHOHHOHHOHHOHHOHHOHHOHHOHHOHHOHHOHHOHHOHHOHHOHHOHHOHHOHHOHHOHHOHHOHHOHHOHHOHHOHHOHHOHHOHHOHHOHHOHHOHHOHHOHHOHHOHHOHHOHHOHHOHHOHH'"
      ]
     },
     "execution_count": 4,
     "metadata": {},
     "output_type": "execute_result"
    }
   ],
   "source": [
    "import sys; sys.path.insert(0, '/home/raghavan/bin/mimicpy')\n",
    "from mimicpy.parsers.mpt import MPT\n",
    "elems = \"\".join([i for i in MPT.fromFile('data/mimic.mpt')['element']])\n",
    "elems"
   ]
  },
  {
   "cell_type": "code",
   "execution_count": 5,
   "metadata": {},
   "outputs": [],
   "source": [
    "from ase import Atoms\n",
    "atoms = Atoms(elems, positions=u.atoms.positions)"
   ]
  },
  {
   "cell_type": "code",
   "execution_count": 6,
   "metadata": {},
   "outputs": [
    {
     "data": {
      "text/plain": [
       "array([[12.7116003 , 12.75159931, 12.56159973],\n",
       "       [11.97159958, 11.98160076, 11.50159931],\n",
       "       [13.21159935, 11.96159935, 13.75160027],\n",
       "       ...,\n",
       "       [17.14159966,  8.99160004, 24.43160057],\n",
       "       [17.52159882,  8.58160019, 23.60160065],\n",
       "       [16.64159966,  9.82159996, 24.19159889]])"
      ]
     },
     "execution_count": 6,
     "metadata": {},
     "output_type": "execute_result"
    }
   ],
   "source": [
    "atoms.get_positions()"
   ]
  },
  {
   "cell_type": "code",
   "execution_count": 11,
   "metadata": {},
   "outputs": [],
   "source": [
    "import sys; sys.path.insert(0, '/home/raghavan/bin/pinn')\n",
    "from pinn.models import potential_model\n",
    "from pinn.calculator import PiNN_calc\n",
    "calc = PiNN_calc(potential_model('model'))\n",
    "atoms.set_calculator(calc)"
   ]
  },
  {
   "cell_type": "code",
   "execution_count": 30,
   "metadata": {},
   "outputs": [
    {
     "name": "stdout",
     "output_type": "stream",
     "text": [
      "      Step     Time          Energy         fmax\n",
      "BFGS:    0 10:01:06     -235.374451        3.2737\n",
      "BFGS:    1 10:01:11     -255.027618        3.4132\n",
      "BFGS:    2 10:01:17     -275.471497        3.5160\n",
      "BFGS:    3 10:01:22     -296.994781        3.6154\n",
      "BFGS:    4 10:01:27     -319.552856        3.6848\n",
      "BFGS:    5 10:01:33     -343.553040        3.7034\n",
      "BFGS:    6 10:01:38     -369.510986        3.6729\n",
      "BFGS:    7 10:01:43     -396.453430        3.7285\n",
      "BFGS:    8 10:01:48     -424.270325        3.8043\n",
      "BFGS:    9 10:01:54     -453.227783        3.8472\n",
      "BFGS:   10 10:01:59     -483.589752        3.8640\n",
      "BFGS:   11 10:02:05     -515.610718        3.8618\n",
      "BFGS:   12 10:02:10     -549.122131        3.8464\n",
      "BFGS:   13 10:02:15     -582.056763        3.8231\n",
      "BFGS:   14 10:02:21     -612.244568        4.0946\n",
      "BFGS:   15 10:02:26     -639.792053        4.3946\n",
      "BFGS:   16 10:02:32     -665.014709        4.6722\n",
      "BFGS:   17 10:02:37     -688.426941        4.9102\n",
      "BFGS:   18 10:02:43     -710.696045        5.0823\n",
      "BFGS:   19 10:02:48     -732.614075        5.1651\n",
      "BFGS:   20 10:02:53     -754.252136        5.1633\n",
      "BFGS:   21 10:02:59     -776.022644        5.2173\n",
      "BFGS:   22 10:03:04     -798.863342        5.1735\n",
      "BFGS:   23 10:03:09     -823.528687        5.0569\n",
      "BFGS:   24 10:03:15     -849.161133        4.9045\n",
      "BFGS:   25 10:03:19     -874.967957        5.0516\n",
      "BFGS:   26 10:03:25     -900.496460        5.2363\n",
      "BFGS:   27 10:03:30     -926.410217        5.3311\n",
      "BFGS:   28 10:03:36     -952.737061        5.3281\n",
      "BFGS:   29 10:03:41     -979.786011        5.2367\n",
      "BFGS:   30 10:03:46    -1008.996765        5.4003\n",
      "BFGS:   31 10:03:52    -1039.045898        5.5064\n",
      "BFGS:   32 10:03:57    -1065.228882        6.0134\n",
      "BFGS:   33 10:04:02    -1089.764648        6.7878\n",
      "BFGS:   34 10:04:08    -1113.688965        7.2622\n",
      "BFGS:   35 10:04:13    -1147.130005        7.4407\n",
      "BFGS:   36 10:04:18    -1184.194458        7.3384\n",
      "BFGS:   37 10:04:24    -1226.876831        7.1423\n",
      "BFGS:   38 10:04:29    -1271.724121        7.0516\n",
      "BFGS:   39 10:04:34    -1318.053345        6.9047\n",
      "BFGS:   40 10:04:39    -1366.370117        6.6891\n",
      "BFGS:   41 10:04:45    -1414.331665        6.4215\n",
      "BFGS:   42 10:04:51    -1462.676880        6.1180\n",
      "BFGS:   43 10:04:56    -1513.927979        5.7986\n",
      "BFGS:   44 10:05:01    -1562.957520        5.5235\n",
      "BFGS:   45 10:05:07    -1609.001221        5.5204\n",
      "BFGS:   46 10:05:12    -1653.666138        5.5969\n",
      "BFGS:   47 10:05:18    -1698.273071        5.4775\n",
      "BFGS:   48 10:05:23    -1741.219971        5.5610\n",
      "BFGS:   49 10:05:28    -1780.344727        5.7441\n",
      "BFGS:   50 10:05:33    -1816.764648        5.9492\n",
      "BFGS:   51 10:05:39    -1852.435425        5.8738\n",
      "BFGS:   52 10:05:44    -1889.359009        5.7163\n",
      "BFGS:   53 10:05:49    -1922.723511        5.9076\n",
      "BFGS:   54 10:05:54    -1953.678711        6.1012\n",
      "BFGS:   55 10:06:00    -1983.437378        6.1533\n",
      "BFGS:   56 10:06:05    -2013.203247        6.0710\n",
      "BFGS:   57 10:06:10    -2044.123413        5.8801\n",
      "BFGS:   58 10:06:15    -2076.862793        5.6137\n",
      "BFGS:   59 10:06:20    -2110.203369        5.3149\n",
      "BFGS:   60 10:06:25    -2141.721680        5.0283\n",
      "BFGS:   61 10:06:31    -2169.785645        5.0975\n",
      "BFGS:   62 10:06:36    -2195.277100        5.4278\n",
      "BFGS:   63 10:06:42    -2219.088379        5.6514\n",
      "BFGS:   64 10:06:47    -2242.100586        5.7072\n",
      "BFGS:   65 10:06:52    -2265.506592        5.5685\n",
      "BFGS:   66 10:06:58    -2289.902344        5.2472\n",
      "BFGS:   67 10:07:03    -2313.376465        5.3326\n",
      "BFGS:   68 10:07:08    -2336.441162        5.5519\n",
      "BFGS:   69 10:07:13    -2359.172852        5.7012\n",
      "BFGS:   70 10:07:19    -2381.718018        5.7690\n",
      "BFGS:   71 10:07:24    -2404.592041        5.7542\n",
      "BFGS:   72 10:07:30    -2428.142822        5.6556\n",
      "BFGS:   73 10:07:35    -2450.573730        5.6366\n",
      "BFGS:   74 10:07:40    -2471.973389        5.7580\n",
      "BFGS:   75 10:07:46    -2492.354492        5.7972\n",
      "BFGS:   76 10:07:51    -2512.396729        5.7688\n",
      "BFGS:   77 10:07:57    -2531.766113        5.5866\n",
      "BFGS:   78 10:08:02    -2549.179199        5.5968\n",
      "BFGS:   79 10:08:07    -2564.981934        5.8886\n",
      "BFGS:   80 10:08:13    -2579.560791        6.1135\n",
      "BFGS:   81 10:08:18    -2593.313477        6.2458\n",
      "BFGS:   82 10:08:23    -2606.650146        6.2768\n",
      "BFGS:   83 10:08:29    -2619.989258        6.1985\n",
      "BFGS:   84 10:08:34    -2633.757080        6.0046\n",
      "BFGS:   85 10:08:39    -2648.432617        5.7218\n",
      "BFGS:   86 10:08:44    -2664.385010        5.3589\n",
      "BFGS:   87 10:08:50    -2680.138428        4.9808\n",
      "BFGS:   88 10:08:55    -2695.629150        4.6275\n",
      "BFGS:   89 10:09:01    -2711.265137        4.5061\n",
      "BFGS:   90 10:09:06    -2727.399658        4.5451\n",
      "BFGS:   91 10:09:11    -2744.489990        4.5853\n",
      "BFGS:   92 10:09:16    -2761.506836        4.6240\n",
      "BFGS:   93 10:09:22    -2778.648193        4.6611\n",
      "BFGS:   94 10:09:27    -2796.092285        4.6968\n",
      "BFGS:   95 10:09:33    -2812.973389        4.7292\n",
      "BFGS:   96 10:09:38    -2828.953369        4.7574\n",
      "BFGS:   97 10:09:44    -2844.201416        4.7819\n",
      "BFGS:   98 10:09:49    -2858.897461        4.8031\n",
      "BFGS:   99 10:09:54    -2873.220703        4.8217\n",
      "BFGS:  100 10:10:00    -2887.354248        4.8379\n",
      "BFGS:  101 10:10:05    -2901.393066        4.8521\n",
      "BFGS:  102 10:10:11    -2915.631592        4.8647\n",
      "BFGS:  103 10:10:16    -2930.257324        4.8760\n"
     ]
    },
    {
     "ename": "KeyboardInterrupt",
     "evalue": "",
     "output_type": "error",
     "traceback": [
      "\u001b[0;31m---------------------------------------------------------------------------\u001b[0m",
      "\u001b[0;31mKeyboardInterrupt\u001b[0m                         Traceback (most recent call last)",
      "\u001b[0;32m<ipython-input-30-d7bf6f24ff07>\u001b[0m in \u001b[0;36m<module>\u001b[0;34m\u001b[0m\n\u001b[1;32m      4\u001b[0m \u001b[0mtraj\u001b[0m \u001b[0;34m=\u001b[0m \u001b[0mTrajectory\u001b[0m\u001b[0;34m(\u001b[0m\u001b[0;34m'pred/minim.traj'\u001b[0m\u001b[0;34m,\u001b[0m \u001b[0;34m'w'\u001b[0m\u001b[0;34m,\u001b[0m \u001b[0matoms\u001b[0m\u001b[0;34m)\u001b[0m\u001b[0;34m\u001b[0m\u001b[0m\n\u001b[1;32m      5\u001b[0m \u001b[0mdyn\u001b[0m\u001b[0;34m.\u001b[0m\u001b[0mattach\u001b[0m\u001b[0;34m(\u001b[0m\u001b[0mtraj\u001b[0m\u001b[0;34m.\u001b[0m\u001b[0mwrite\u001b[0m\u001b[0;34m,\u001b[0m \u001b[0minterval\u001b[0m\u001b[0;34m=\u001b[0m\u001b[0;36m1\u001b[0m\u001b[0;34m)\u001b[0m\u001b[0;34m\u001b[0m\u001b[0m\n\u001b[0;32m----> 6\u001b[0;31m \u001b[0mdyn\u001b[0m\u001b[0;34m.\u001b[0m\u001b[0mrun\u001b[0m\u001b[0;34m(\u001b[0m\u001b[0mfmax\u001b[0m\u001b[0;34m=\u001b[0m\u001b[0;36m0.05\u001b[0m\u001b[0;34m)\u001b[0m\u001b[0;34m\u001b[0m\u001b[0m\n\u001b[0m",
      "\u001b[0;32m/usr/local/lib/python3.5/dist-packages/ase/optimize/optimize.py\u001b[0m in \u001b[0;36mrun\u001b[0;34m(self, fmax, steps)\u001b[0m\n\u001b[1;32m    270\u001b[0m         \u001b[0;32mif\u001b[0m \u001b[0msteps\u001b[0m\u001b[0;34m:\u001b[0m\u001b[0;34m\u001b[0m\u001b[0m\n\u001b[1;32m    271\u001b[0m             \u001b[0mself\u001b[0m\u001b[0;34m.\u001b[0m\u001b[0mmax_steps\u001b[0m \u001b[0;34m=\u001b[0m \u001b[0msteps\u001b[0m\u001b[0;34m\u001b[0m\u001b[0m\n\u001b[0;32m--> 272\u001b[0;31m         \u001b[0;32mreturn\u001b[0m \u001b[0mDynamics\u001b[0m\u001b[0;34m.\u001b[0m\u001b[0mrun\u001b[0m\u001b[0;34m(\u001b[0m\u001b[0mself\u001b[0m\u001b[0;34m)\u001b[0m\u001b[0;34m\u001b[0m\u001b[0m\n\u001b[0m\u001b[1;32m    273\u001b[0m \u001b[0;34m\u001b[0m\u001b[0m\n\u001b[1;32m    274\u001b[0m     \u001b[0;32mdef\u001b[0m \u001b[0mconverged\u001b[0m\u001b[0;34m(\u001b[0m\u001b[0mself\u001b[0m\u001b[0;34m,\u001b[0m \u001b[0mforces\u001b[0m\u001b[0;34m=\u001b[0m\u001b[0;32mNone\u001b[0m\u001b[0;34m)\u001b[0m\u001b[0;34m:\u001b[0m\u001b[0;34m\u001b[0m\u001b[0m\n",
      "\u001b[0;32m/usr/local/lib/python3.5/dist-packages/ase/optimize/optimize.py\u001b[0m in \u001b[0;36mrun\u001b[0;34m(self)\u001b[0m\n\u001b[1;32m    160\u001b[0m         *steps*.\"\"\"\n\u001b[1;32m    161\u001b[0m \u001b[0;34m\u001b[0m\u001b[0m\n\u001b[0;32m--> 162\u001b[0;31m         \u001b[0;32mfor\u001b[0m \u001b[0mconverged\u001b[0m \u001b[0;32min\u001b[0m \u001b[0mDynamics\u001b[0m\u001b[0;34m.\u001b[0m\u001b[0mirun\u001b[0m\u001b[0;34m(\u001b[0m\u001b[0mself\u001b[0m\u001b[0;34m)\u001b[0m\u001b[0;34m:\u001b[0m\u001b[0;34m\u001b[0m\u001b[0m\n\u001b[0m\u001b[1;32m    163\u001b[0m             \u001b[0;32mpass\u001b[0m\u001b[0;34m\u001b[0m\u001b[0m\n\u001b[1;32m    164\u001b[0m         \u001b[0;32mreturn\u001b[0m \u001b[0mconverged\u001b[0m\u001b[0;34m\u001b[0m\u001b[0m\n",
      "\u001b[0;32m/usr/local/lib/python3.5/dist-packages/ase/optimize/optimize.py\u001b[0m in \u001b[0;36mirun\u001b[0;34m(self)\u001b[0m\n\u001b[1;32m    139\u001b[0m \u001b[0;34m\u001b[0m\u001b[0m\n\u001b[1;32m    140\u001b[0m             \u001b[0;31m# compute the next step\u001b[0m\u001b[0;34m\u001b[0m\u001b[0;34m\u001b[0m\u001b[0m\n\u001b[0;32m--> 141\u001b[0;31m             \u001b[0mself\u001b[0m\u001b[0;34m.\u001b[0m\u001b[0mstep\u001b[0m\u001b[0;34m(\u001b[0m\u001b[0;34m)\u001b[0m\u001b[0;34m\u001b[0m\u001b[0m\n\u001b[0m\u001b[1;32m    142\u001b[0m             \u001b[0mself\u001b[0m\u001b[0;34m.\u001b[0m\u001b[0mnsteps\u001b[0m \u001b[0;34m+=\u001b[0m \u001b[0;36m1\u001b[0m\u001b[0;34m\u001b[0m\u001b[0m\n\u001b[1;32m    143\u001b[0m \u001b[0;34m\u001b[0m\u001b[0m\n",
      "\u001b[0;32m/usr/local/lib/python3.5/dist-packages/ase/optimize/bfgs.py\u001b[0m in \u001b[0;36mstep\u001b[0;34m(self, f)\u001b[0m\n\u001b[1;32m     69\u001b[0m         \u001b[0mf\u001b[0m \u001b[0;34m=\u001b[0m \u001b[0mf\u001b[0m\u001b[0;34m.\u001b[0m\u001b[0mreshape\u001b[0m\u001b[0;34m(\u001b[0m\u001b[0;34m-\u001b[0m\u001b[0;36m1\u001b[0m\u001b[0;34m)\u001b[0m\u001b[0;34m\u001b[0m\u001b[0m\n\u001b[1;32m     70\u001b[0m         \u001b[0mself\u001b[0m\u001b[0;34m.\u001b[0m\u001b[0mupdate\u001b[0m\u001b[0;34m(\u001b[0m\u001b[0mr\u001b[0m\u001b[0;34m.\u001b[0m\u001b[0mflat\u001b[0m\u001b[0;34m,\u001b[0m \u001b[0mf\u001b[0m\u001b[0;34m,\u001b[0m \u001b[0mself\u001b[0m\u001b[0;34m.\u001b[0m\u001b[0mr0\u001b[0m\u001b[0;34m,\u001b[0m \u001b[0mself\u001b[0m\u001b[0;34m.\u001b[0m\u001b[0mf0\u001b[0m\u001b[0;34m)\u001b[0m\u001b[0;34m\u001b[0m\u001b[0m\n\u001b[0;32m---> 71\u001b[0;31m         \u001b[0momega\u001b[0m\u001b[0;34m,\u001b[0m \u001b[0mV\u001b[0m \u001b[0;34m=\u001b[0m \u001b[0meigh\u001b[0m\u001b[0;34m(\u001b[0m\u001b[0mself\u001b[0m\u001b[0;34m.\u001b[0m\u001b[0mH\u001b[0m\u001b[0;34m)\u001b[0m\u001b[0;34m\u001b[0m\u001b[0m\n\u001b[0m\u001b[1;32m     72\u001b[0m         \u001b[0mdr\u001b[0m \u001b[0;34m=\u001b[0m \u001b[0mnp\u001b[0m\u001b[0;34m.\u001b[0m\u001b[0mdot\u001b[0m\u001b[0;34m(\u001b[0m\u001b[0mV\u001b[0m\u001b[0;34m,\u001b[0m \u001b[0mnp\u001b[0m\u001b[0;34m.\u001b[0m\u001b[0mdot\u001b[0m\u001b[0;34m(\u001b[0m\u001b[0mf\u001b[0m\u001b[0;34m,\u001b[0m \u001b[0mV\u001b[0m\u001b[0;34m)\u001b[0m \u001b[0;34m/\u001b[0m \u001b[0mnp\u001b[0m\u001b[0;34m.\u001b[0m\u001b[0mfabs\u001b[0m\u001b[0;34m(\u001b[0m\u001b[0momega\u001b[0m\u001b[0;34m)\u001b[0m\u001b[0;34m)\u001b[0m\u001b[0;34m.\u001b[0m\u001b[0mreshape\u001b[0m\u001b[0;34m(\u001b[0m\u001b[0;34m(\u001b[0m\u001b[0;34m-\u001b[0m\u001b[0;36m1\u001b[0m\u001b[0;34m,\u001b[0m \u001b[0;36m3\u001b[0m\u001b[0;34m)\u001b[0m\u001b[0;34m)\u001b[0m\u001b[0;34m\u001b[0m\u001b[0m\n\u001b[1;32m     73\u001b[0m         \u001b[0msteplengths\u001b[0m \u001b[0;34m=\u001b[0m \u001b[0;34m(\u001b[0m\u001b[0mdr\u001b[0m\u001b[0;34m**\u001b[0m\u001b[0;36m2\u001b[0m\u001b[0;34m)\u001b[0m\u001b[0;34m.\u001b[0m\u001b[0msum\u001b[0m\u001b[0;34m(\u001b[0m\u001b[0;36m1\u001b[0m\u001b[0;34m)\u001b[0m\u001b[0;34m**\u001b[0m\u001b[0;36m0.5\u001b[0m\u001b[0;34m\u001b[0m\u001b[0m\n",
      "\u001b[0;32m<__array_function__ internals>\u001b[0m in \u001b[0;36meigh\u001b[0;34m(*args, **kwargs)\u001b[0m\n",
      "\u001b[0;32m/usr/local/lib/python3.5/dist-packages/numpy/linalg/linalg.py\u001b[0m in \u001b[0;36meigh\u001b[0;34m(a, UPLO)\u001b[0m\n\u001b[1;32m   1444\u001b[0m \u001b[0;34m\u001b[0m\u001b[0m\n\u001b[1;32m   1445\u001b[0m     \u001b[0msignature\u001b[0m \u001b[0;34m=\u001b[0m \u001b[0;34m'D->dD'\u001b[0m \u001b[0;32mif\u001b[0m \u001b[0misComplexType\u001b[0m\u001b[0;34m(\u001b[0m\u001b[0mt\u001b[0m\u001b[0;34m)\u001b[0m \u001b[0;32melse\u001b[0m \u001b[0;34m'd->dd'\u001b[0m\u001b[0;34m\u001b[0m\u001b[0m\n\u001b[0;32m-> 1446\u001b[0;31m     \u001b[0mw\u001b[0m\u001b[0;34m,\u001b[0m \u001b[0mvt\u001b[0m \u001b[0;34m=\u001b[0m \u001b[0mgufunc\u001b[0m\u001b[0;34m(\u001b[0m\u001b[0ma\u001b[0m\u001b[0;34m,\u001b[0m \u001b[0msignature\u001b[0m\u001b[0;34m=\u001b[0m\u001b[0msignature\u001b[0m\u001b[0;34m,\u001b[0m \u001b[0mextobj\u001b[0m\u001b[0;34m=\u001b[0m\u001b[0mextobj\u001b[0m\u001b[0;34m)\u001b[0m\u001b[0;34m\u001b[0m\u001b[0m\n\u001b[0m\u001b[1;32m   1447\u001b[0m     \u001b[0mw\u001b[0m \u001b[0;34m=\u001b[0m \u001b[0mw\u001b[0m\u001b[0;34m.\u001b[0m\u001b[0mastype\u001b[0m\u001b[0;34m(\u001b[0m\u001b[0m_realType\u001b[0m\u001b[0;34m(\u001b[0m\u001b[0mresult_t\u001b[0m\u001b[0;34m)\u001b[0m\u001b[0;34m,\u001b[0m \u001b[0mcopy\u001b[0m\u001b[0;34m=\u001b[0m\u001b[0;32mFalse\u001b[0m\u001b[0;34m)\u001b[0m\u001b[0;34m\u001b[0m\u001b[0m\n\u001b[1;32m   1448\u001b[0m     \u001b[0mvt\u001b[0m \u001b[0;34m=\u001b[0m \u001b[0mvt\u001b[0m\u001b[0;34m.\u001b[0m\u001b[0mastype\u001b[0m\u001b[0;34m(\u001b[0m\u001b[0mresult_t\u001b[0m\u001b[0;34m,\u001b[0m \u001b[0mcopy\u001b[0m\u001b[0;34m=\u001b[0m\u001b[0;32mFalse\u001b[0m\u001b[0;34m)\u001b[0m\u001b[0;34m\u001b[0m\u001b[0m\n",
      "\u001b[0;31mKeyboardInterrupt\u001b[0m: "
     ]
    }
   ],
   "source": [
    "from ase.optimize import BFGS\n",
    "from ase.io.trajectory import Trajectory\n",
    "dyn = BFGS(atoms)\n",
    "traj = Trajectory('pred/minim.traj', 'w', atoms)\n",
    "dyn.attach(traj.write, interval=1)\n",
    "dyn.run(fmax=0.05)"
   ]
  },
  {
   "cell_type": "code",
   "execution_count": 37,
   "metadata": {},
   "outputs": [],
   "source": [
    "traj = Trajectory('pred/minim.traj')\n",
    "f = open('pred/minim.xyz', 'w')\n",
    "for i, atoms in enumerate(traj):\n",
    "    getxyz(atoms, i, f)"
   ]
  },
  {
   "cell_type": "code",
   "execution_count": 12,
   "metadata": {},
   "outputs": [
    {
     "name": "stdout",
     "output_type": "stream",
     "text": [
      "Time[ps]    Etot/N[eV]   Epot/N[eV]   Ekin/N[eV]    T[K]\n",
      "0.0000          -1.9237      -2.4205       0.4967  3843.0\n",
      "0.0200          -1.9189      -2.3864       0.4675  3616.7\n",
      "0.0400          -1.9233      -2.4128       0.4894  3786.2\n",
      "0.0600          -1.9186      -2.4336       0.5150  3984.3\n",
      "0.0800          -1.9171      -2.4662       0.5491  4248.0\n",
      "0.1000          -1.9173      -2.4536       0.5363  4149.0\n",
      "0.1200          -1.9151      -2.4511       0.5360  4146.5\n",
      "0.1400          -1.9142      -2.4642       0.5500  4255.3\n",
      "0.1600          -1.9005      -2.4552       0.5547  4291.7\n",
      "0.1800          -1.8948      -2.4583       0.5636  4360.2\n",
      "0.2000          -1.8905      -2.4437       0.5533  4280.3\n"
     ]
    }
   ],
   "source": [
    "from ase.md.verlet import VelocityVerlet\n",
    "from ase import units\n",
    "from ase.md import MDLogger\n",
    "from ase import units\n",
    "from ase.io.trajectory import Trajectory\n",
    "\n",
    "dyn = VelocityVerlet(atoms, dt=2*units.fs)\n",
    "dyn.attach(MDLogger(dyn, atoms, '-', header=True, stress=False,\n",
    "           peratom=True, mode=\"w\"), interval=10)\n",
    "traj = Trajectory('pred/md.traj', 'w', atoms)\n",
    "dyn.attach(traj.write, interval=1)\n",
    "dyn.run(100)\n",
    "traj.close()"
   ]
  },
  {
   "cell_type": "code",
   "execution_count": 13,
   "metadata": {},
   "outputs": [],
   "source": [
    "from ase.io.trajectory import Trajectory\n",
    "traj = Trajectory('pred/md.traj')\n",
    "xyz = open('pred/md.xyz', 'w')\n",
    "for i, atoms in enumerate(traj):\n",
    "    getxyz(atoms, i, xyz)"
   ]
  },
  {
   "cell_type": "code",
   "execution_count": 36,
   "metadata": {},
   "outputs": [],
   "source": [
    "import ase\n",
    "ase.io.proteindatabank.write_proteindatabank(\"md/md.pdb\", traj[100])"
   ]
  }
 ],
 "metadata": {
  "kernelspec": {
   "display_name": "Python 3",
   "language": "python",
   "name": "python3"
  },
  "language_info": {
   "codemirror_mode": {
    "name": "ipython",
    "version": 3
   },
   "file_extension": ".py",
   "mimetype": "text/x-python",
   "name": "python",
   "nbconvert_exporter": "python",
   "pygments_lexer": "ipython3",
   "version": "3.5.2"
  }
 },
 "nbformat": 4,
 "nbformat_minor": 4
}
